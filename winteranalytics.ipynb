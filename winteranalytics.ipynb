import seborn as sns
import numpy as np
import matplotlib.pyplot as plts
